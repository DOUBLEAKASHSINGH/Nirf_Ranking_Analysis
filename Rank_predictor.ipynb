{
 "cells": [
  {
   "cell_type": "code",
   "execution_count": 18,
   "id": "bc37faf4",
   "metadata": {},
   "outputs": [],
   "source": [
    "import pandas as pd\n",
    "import os\n",
    "import numpy as np\n",
    "from sklearn.ensemble import RandomForestRegressor\n",
    "from sklearn.model_selection import train_test_split\n",
    "from sklearn.metrics import mean_squared_error\n",
    "\n"
   ]
  },
  {
   "cell_type": "markdown",
   "id": "8fdc3ace",
   "metadata": {},
   "source": [
    "# Load consolidated file"
   ]
  },
  {
   "cell_type": "code",
   "execution_count": 20,
   "id": "7aca1a52",
   "metadata": {},
   "outputs": [
    {
     "name": "stdout",
     "output_type": "stream",
     "text": [
      "Loaded consolidated dataset from data.xlsx\n",
      "Number of colleges present in all 4 years: 81\n"
     ]
    }
   ],
   "source": [
    "filtered_data = pd.read_excel('nirf_engineering_2021_2024.xlsx')\n",
    "colleges_all_years = filtered_data['college_id'].unique()\n",
    "print(f\"Loaded consolidated dataset from data.xlsx\")\n",
    "print(f\"Number of colleges present in all 4 years: {len(colleges_all_years)}\")"
   ]
  },
  {
   "cell_type": "code",
   "execution_count": 22,
   "id": "041dbda3",
   "metadata": {},
   "outputs": [],
   "source": [
    "def estimate_rank(predicted_score, data_2024):\n",
    "\n",
    "    data_2024_sorted = data_2024.sort_values('Overall_Score', ascending=False).reset_index(drop=True)\n",
    "    data_2024_sorted['Rank'] = data_2024_sorted.index + 1\n",
    "    score_diff = np.abs(data_2024_sorted['Overall_Score'] - predicted_score)\n",
    "    closest_idx = score_diff.idxmin()\n",
    "    return data_2024_sorted.loc[closest_idx, 'Rank']"
   ]
  },
  {
   "cell_type": "code",
   "execution_count": 24,
   "id": "c29931eb",
   "metadata": {},
   "outputs": [
    {
     "name": "stdout",
     "output_type": "stream",
     "text": [
      "Model RMSE: 1.67\n"
     ]
    }
   ],
   "source": [
    "# Prepare features and target\n",
    "X = filtered_data[['TLR', 'RPC', 'GO', 'OI', 'PR', 'Delta_Overall']].fillna(0)\n",
    "y = filtered_data['Overall_Score']\n",
    "\n",
    "# Train-test split\n",
    "X_train, X_test, y_train, y_test = train_test_split(X, y, test_size=0.2, random_state=42)\n",
    "\n",
    "# Train model\n",
    "model = RandomForestRegressor(n_estimators=100, random_state=42)\n",
    "model.fit(X_train, y_train)\n",
    "\n",
    "# Evaluate model\n",
    "y_pred = model.predict(X_test)\n",
    "rmse = np.sqrt(mean_squared_error(y_test, y_pred))\n",
    "print(f\"Model RMSE: {rmse:.2f}\")"
   ]
  },
  {
   "cell_type": "code",
   "execution_count": 56,
   "id": "f0818d32",
   "metadata": {},
   "outputs": [],
   "source": [
    "def predict_score_rank(college_id=None, tlr=None, rpc=None, go=None, oi=None, pr=None, delta_overall=None):\n",
    "\n",
    "    data_2024 = filtered_data[filtered_data['Year'] == 2024]\n",
    "    \n",
    "    if college_id:\n",
    "        # if college_id not in filtered_data['college_id'].values:\n",
    "        #     return None, None, f\"College ID {college_id} not found in all 4 years\"\n",
    "        \n",
    "        college_data = filtered_data[filtered_data['college_id'] == college_id]\n",
    "        # if len(college_data) < 4:\n",
    "        #     return None, None, f\"College {college_id} does not have data for all 4 years\"\n",
    "        \n",
    "        college_2024 = college_data[college_data['Year'] == 2024]\n",
    "        # if college_2024.empty:\n",
    "        #     return None, None, f\"No 2024 data found for {college_id}\"\n",
    "        \n",
    "        avg_delta = college_data['Delta_Overall'].mean()\n",
    "        print(f\"Average Delta_Overall for {college_id} 2021-2024: {avg_delta:.2f}\")\n",
    "        \n",
    "        params = ['TLR', 'RPC', 'GO', 'OI', 'PR']\n",
    "        trends = {}\n",
    "        for param in params:\n",
    "            param_values = college_data.sort_values('Year')[param].values\n",
    "            if len(param_values) == 4:\n",
    "                trends[param] = (param_values[-1] - param_values[0]) / 3\n",
    "            else:\n",
    "                trends[param] = 0\n",
    "        \n",
    "        params_2024 = college_2024[['TLR', 'RPC', 'GO', 'OI', 'PR']].values[0]\n",
    "        params_2025 = [params_2024[i] + trends[param] for i, param in enumerate(params)]\n",
    "        delta_2024 = college_2024['Delta_Overall'].values[0] if not pd.isna(college_2024['Delta_Overall'].values[0]) else avg_delta\n",
    "        \n",
    "        input_2025 = pd.DataFrame([params_2025 + [delta_2024]], columns=['TLR', 'RPC', 'GO', 'OI', 'PR', 'Delta_Overall'])\n",
    "        predicted_score = model.predict(input_2025)[0]\n",
    "        estimated_rank = estimate_rank(predicted_score, data_2024)\n",
    "        \n",
    "        print(f\"\\nDetailed Prediction for {college_id} ({college_2024['Institution'].iloc[0]}):\")\n",
    "        print(\"Projected 2025 Parameters:\")\n",
    "        for param, value in zip(params, params_2025):\n",
    "            print(f\"  {param}: {value:.2f}\")\n",
    "        print(f\"  Delta_Overall (used): {delta_2024:.2f}\")\n",
    "        # print(f\"Predicted 2025 Overall Score: {predicted_score:.2f}\")\n",
    "        # print(f\"Estimated 2025 Rank: {estimated_rank}\")\n",
    "        \n",
    "        return predicted_score, estimated_rank, college_2024['Institution'].iloc[0]\n",
    "    \n",
    "    elif all(v is not None for v in [tlr, rpc, go, oi, pr]):\n",
    "        delta_used = delta_overall if delta_overall is not None else filtered_data[filtered_data['Year'] == 2024]['Delta_Overall'].mean()\n",
    "        delta_source = \"provided\" if delta_overall is not None else \"mean Delta_Overall from 2024\"\n",
    "        \n",
    "        input_params = pd.DataFrame([[tlr, rpc, go, oi, pr, delta_used]], \n",
    "                                    columns=['TLR', 'RPC', 'GO', 'OI', 'PR', 'Delta_Overall'])\n",
    "        predicted_score = model.predict(input_params)[0]\n",
    "        estimated_rank = estimate_rank(predicted_score, data_2024)\n",
    "        \n",
    "        print(f\"\\nDetailed Prediction for Custom Parameters:\")\n",
    "        print(\"Input Parameters:\")\n",
    "        print(f\"  TLR: {tlr:.2f}\")\n",
    "        print(f\"  RPC: {rpc:.2f}\")\n",
    "        print(f\"  GO: {go:.2f}\")\n",
    "        print(f\"  OI: {oi:.2f}\")\n",
    "        print(f\"  PR: {pr:.2f}\")\n",
    "        # print(f\"  Delta_Overall ({delta_source}): {delta_used:.2f}\")\n",
    "        # print(f\"Predicted  Overall Score: {predicted_score:.2f}\")\n",
    "        # print(f\"Estimated  Rank: {estimated_rank}\")\n",
    "        \n",
    "        return predicted_score, estimated_rank, \"Custom Parameters\"\n",
    "    \n",
    "    else:\n",
    "        return None, None, \"Invalid input: Provide either college_id or all parameters (tlr, rpc, go, oi, pr)\"\n"
   ]
  },
  {
   "cell_type": "code",
   "execution_count": 58,
   "id": "f56a8693",
   "metadata": {},
   "outputs": [
    {
     "name": "stdout",
     "output_type": "stream",
     "text": [
      "Average Delta_Overall for IR-E-U-0105 2021-2024: 0.49\n",
      "\n",
      "Detailed Prediction for IR-E-U-0105 (Indraprastha Institute of Information Technology):\n",
      "Projected 2025 Parameters:\n",
      "  TLR: 54.14\n",
      "  RPC: 31.63\n",
      "  GO: 72.95\n",
      "  OI: 45.99\n",
      "  PR: 19.01\n",
      "  Delta_Overall (used): -0.25\n",
      "Predicted 2025 Score for IR-E-U-0105 (Indraprastha Institute of Information Technology): 47.27\n",
      "Estimated 2025 Rank: 72\n"
     ]
    }
   ],
   "source": [
    "college_id_manual = 'IR-E-U-0105'  \n",
    "score, rank, institution = predict_score_rank(college_id=college_id_manual)\n",
    "if score is not None:\n",
    "    print(f\"Predicted 2025 Score for {college_id_manual} ({institution}): {score:.2f}\")\n",
    "    print(f\"Estimated 2025 Rank: {rank}\")\n",
    "else:\n",
    "    print(institution)"
   ]
  },
  {
   "cell_type": "markdown",
   "id": "fae1aa39",
   "metadata": {},
   "source": [
    "# Predict for manually defined parameter scores"
   ]
  },
  {
   "cell_type": "code",
   "execution_count": 62,
   "id": "1ab38b59",
   "metadata": {},
   "outputs": [
    {
     "name": "stdout",
     "output_type": "stream",
     "text": [
      "\n",
      "Detailed Prediction for Custom Parameters:\n",
      "Input Parameters:\n",
      "  TLR: 68.33\n",
      "  RPC: 31.67\n",
      "  GO: 71.72\n",
      "  OI: 44.34\n",
      "  PR: 17.57\n",
      "Predicted Score for provided parameters: 49.82\n",
      "Rank: 63\n"
     ]
    }
   ],
   "source": [
    "tlr_manual = 68.33 \n",
    "rpc_manual = 31.67\n",
    "go_manual = 71.72\n",
    "oi_manual = 44.34\n",
    "pr_manual = 17.57\n",
    "delta_manual = 0.49\n",
    "\n",
    "score, rank, institution = predict_score_rank(\n",
    "    tlr=tlr_manual, rpc=rpc_manual, go=go_manual, oi=oi_manual, pr=pr_manual, delta_overall=delta_manual)\n",
    "\n",
    "if score is not None:\n",
    "    print(f\"Predicted Score for provided parameters: {score:.2f}\")\n",
    "    print(f\"Rank: {rank}\")\n"
   ]
  },
  {
   "cell_type": "code",
   "execution_count": null,
   "id": "9b508c7e",
   "metadata": {},
   "outputs": [],
   "source": []
  }
 ],
 "metadata": {
  "kernelspec": {
   "display_name": "Python 3 (ipykernel)",
   "language": "python",
   "name": "python3"
  },
  "language_info": {
   "codemirror_mode": {
    "name": "ipython",
    "version": 3
   },
   "file_extension": ".py",
   "mimetype": "text/x-python",
   "name": "python",
   "nbconvert_exporter": "python",
   "pygments_lexer": "ipython3",
   "version": "3.12.4"
  }
 },
 "nbformat": 4,
 "nbformat_minor": 5
}
